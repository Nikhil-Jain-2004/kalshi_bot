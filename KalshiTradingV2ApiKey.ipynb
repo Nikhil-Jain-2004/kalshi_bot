{
 "cells": [
  {
   "cell_type": "code",
   "execution_count": 1,
   "metadata": {},
   "outputs": [],
   "source": [
    "# Welcome to the Kalshi REST v2 Starter Code!\n",
    "\n",
    "# pypi client: recommended for more advanced programmers\n",
    "#import kalshi_python\n",
    "\n",
    "# starter client: recommended for all levels of programming experience (what this client is implemented using)\n",
    "from KalshiClientsBaseV2ApiKey import ExchangeClient\n",
    "import time\n",
    "import json\n",
    "import uuid"
   ]
  },
  {
   "cell_type": "code",
   "execution_count": 2,
   "metadata": {},
   "outputs": [],
   "source": [
    "from cryptography.hazmat.primitives import serialization\n",
    "from cryptography.hazmat.backends import default_backend\n",
    "\n",
    "def load_private_key_from_file(file_path):\n",
    "    with open(file_path, \"rb\") as key_file:\n",
    "        private_key = serialization.load_pem_private_key(\n",
    "            key_file.read(),\n",
    "            password=None,  # or provide a password if your key is encrypted\n",
    "            backend=default_backend()\n",
    "        )\n",
    "    return private_key"
   ]
  },
  {
   "cell_type": "code",
   "execution_count": null,
   "metadata": {},
   "outputs": [
    {
     "ename": "TypeError",
     "evalue": "ExchangeClient.__init__() got an unexpected keyword argument 'host'",
     "output_type": "error",
     "traceback": [
      "\u001b[0;31m---------------------------------------------------------------------------\u001b[0m",
      "\u001b[0;31mTypeError\u001b[0m                                 Traceback (most recent call last)",
      "Cell \u001b[0;32mIn[4], line 17\u001b[0m\n\u001b[1;32m     14\u001b[0m demo_api_base \u001b[38;5;241m=\u001b[39m \u001b[38;5;124m\"\u001b[39m\u001b[38;5;124mhttps://demo-api.kalshi.co/trade-api/v2\u001b[39m\u001b[38;5;124m\"\u001b[39m\n\u001b[1;32m     16\u001b[0m \u001b[38;5;66;03m## if wanting to test in prod:\u001b[39;00m\n\u001b[0;32m---> 17\u001b[0m exchange_client \u001b[38;5;241m=\u001b[39m \u001b[43mExchangeClient\u001b[49m\u001b[43m(\u001b[49m\u001b[43mhost\u001b[49m\u001b[38;5;241;43m=\u001b[39;49m\u001b[43mprod_api_base\u001b[49m\u001b[43m,\u001b[49m\u001b[43m \u001b[49m\u001b[43mkey_id\u001b[49m\u001b[43m \u001b[49m\u001b[38;5;241;43m=\u001b[39;49m\u001b[43m \u001b[49m\u001b[43mprod_key_id\u001b[49m\u001b[43m,\u001b[49m\u001b[43m \u001b[49m\u001b[43mprivate_key\u001b[49m\u001b[43m \u001b[49m\u001b[38;5;241;43m=\u001b[39;49m\u001b[43m \u001b[49m\u001b[43mprod_private_key\u001b[49m\u001b[43m)\u001b[49m\n\u001b[1;32m     19\u001b[0m \u001b[38;5;66;03m## if wanting to test in demo\u001b[39;00m\n\u001b[1;32m     20\u001b[0m \u001b[38;5;66;03m# exchange_client = ExchangeClient(host = demo_api_base, key_id = demo_key_id, private_key = demo_private_key)\u001b[39;00m\n\u001b[1;32m     21\u001b[0m \n\u001b[1;32m     22\u001b[0m \u001b[38;5;66;03m# first we will check on the exchange status to confirm you are properly connected...\u001b[39;00m\n\u001b[1;32m     23\u001b[0m \u001b[38;5;28mprint\u001b[39m(exchange_client\u001b[38;5;241m.\u001b[39mget_exchange_status())\n",
      "\u001b[0;31mTypeError\u001b[0m: ExchangeClient.__init__() got an unexpected keyword argument 'host'"
     ]
    }
   ],
   "source": [
    "# To start off, you need to have created an account at https://kalshi.com (Production) \n",
    "# or an account on the Demo https://demo.kalshi.co/\n",
    "\n",
    "prod_key_id = \"2ff8666e-cf7b-4ff4-b667-06568a3f6b1b\" # change these to be your personal credentials\n",
    "prod_private_key = load_private_key_from_file('HybridNation-2.txt')\n",
    "\n",
    "demo_key_id = \"8b892002-a4ea-458b-9273-e09272353368\" # change these to be your personal credentials\n",
    "demo_private_key = load_private_key_from_file('HybridNation.txt')\n",
    "\n",
    "# for prod\n",
    "prod_api_base = \"https://api.elections.kalshi.com/trade-api/v2\"\n",
    "\n",
    "# for demo\n",
    "demo_api_base = \"https://demo-api.kalshi.co/trade-api/v2\"\n",
    "\n",
    "## if wanting to test in prod:\n",
    "exchange_client = ExchangeClient(exchange_api_base=prod_api_base, key_id = prod_key_id, private_key = prod_private_key)\n",
    "\n",
    "## if wanting to test in demo\n",
    "# exchange_client = ExchangeClient(exchange_api_base = demo_api_base, key_id = demo_key_id, private_key = demo_private_key)\n",
    "\n",
    "# first we will check on the exchange status to confirm you are properly connected...\n",
    "print(exchange_client.get_exchange_status())"
   ]
  },
  {
   "cell_type": "code",
   "execution_count": 4,
   "metadata": {
    "tags": []
   },
   "outputs": [
    {
     "name": "stdout",
     "output_type": "stream",
     "text": [
      "keys: dict_keys(['markets', 'cursor'])\n",
      "\n",
      "number of objects: 100\n",
      "\n",
      "first market in payload: {'ticker': 'KXNHLGAME-25APR23MTLWSH-WSH', 'event_ticker': 'KXNHLGAME-25APR23MTLWSH', 'market_type': 'binary', 'title': 'Montreal vs Washington Winner?', 'subtitle': '', 'yes_sub_title': 'Washington', 'no_sub_title': 'Washington', 'open_time': '2025-04-22T02:20:00Z', 'close_time': '2027-04-23T23:00:00Z', 'expected_expiration_time': '2025-04-24T02:00:00Z', 'expiration_time': '2027-04-23T23:00:00Z', 'latest_expiration_time': '2027-04-23T23:00:00Z', 'settlement_timer_seconds': 500, 'status': 'initialized', 'response_price_units': 'usd_cent', 'notional_value': 100, 'tick_size': 1, 'yes_bid': 0, 'yes_ask': 0, 'no_bid': 100, 'no_ask': 100, 'last_price': 0, 'previous_yes_bid': 0, 'previous_yes_ask': 0, 'previous_price': 0, 'volume': 0, 'volume_24h': 0, 'liquidity': 0, 'open_interest': 0, 'result': '', 'can_close_early': True, 'expiration_value': '', 'category': '', 'risk_limit_cents': 0, 'strike_type': 'structured', 'custom_strike': {'hockey_team': '5b474f02-be1a-4aee-8200-4c4eb6e557e9'}, 'rules_primary': 'If Washington wins the Montreal vs Washington professional hockey game scheduled for Apr 23, 2025, then the market resolves to Yes.', 'rules_secondary': 'The following market refers to the Montreal vs Washington professional hockey game scheduled for Apr 23, 2025. If this game is postponed or delayed, the market will remain open and close after the rescheduled game has finished (within two years). If the cancelled game/series is not played, rescheduled, or declared a tie, the market will resolve to 50/50 for all teams.'}\n",
      "\n",
      "cursor: CgwI2JSZwAYQwPv6jQMSF0tYU1BPVElGWTJELTI1QVBSMjItTFVU\n"
     ]
    }
   ],
   "source": [
    "# You can discover markets through the get_markets endpoint...\n",
    "\n",
    "# and use query parameters to filter your search!\n",
    "market_params = {'limit':100,\n",
    "                    'cursor':None, # passing in the cursor from the previous get_markets call\n",
    "                    'event_ticker': None,\n",
    "                    'series_ticker':None,\n",
    "                    'max_close_ts':None, # pass in unix_ts\n",
    "                    'min_close_ts':None, # pass in unix_ts\n",
    "                    'status':None,\n",
    "                    'tickers':None}\n",
    "\n",
    "markets_response = exchange_client.get_markets(**market_params)\n",
    "cursor = markets_response['cursor']\n",
    "\n",
    "print('keys:', markets_response.keys())\n",
    "print()\n",
    "print('number of objects:', len(markets_response['markets'])) # 100 objects!\n",
    "print()\n",
    "print('first market in payload:', markets_response['markets'][0])\n",
    "print()\n",
    "print('cursor:', cursor)"
   ]
  },
  {
   "cell_type": "code",
   "execution_count": 5,
   "metadata": {},
   "outputs": [
    {
     "name": "stdout",
     "output_type": "stream",
     "text": [
      "keys: dict_keys(['markets', 'cursor'])\n",
      "\n",
      "number of objects: 100\n",
      "\n",
      "first market in market_response payload: {'ticker': 'KXSPOTIFY2D-25APR22-JUS', 'event_ticker': 'KXSPOTIFY2D-25APR22', 'market_type': 'binary', 'title': 'Will the top Song on Apr 22, 2025 be Just In Case?', 'subtitle': ':: Morgan Wallen', 'yes_sub_title': 'Just In Case', 'no_sub_title': 'Just In Case', 'open_time': '2025-04-21T21:00:00Z', 'close_time': '2025-04-23T03:59:00Z', 'expected_expiration_time': '2025-04-23T14:00:00Z', 'expiration_time': '2025-05-06T14:00:00Z', 'latest_expiration_time': '2025-05-06T14:00:00Z', 'settlement_timer_seconds': 1800, 'status': 'active', 'response_price_units': 'usd_cent', 'notional_value': 100, 'tick_size': 1, 'yes_bid': 0, 'yes_ask': 1, 'no_bid': 99, 'no_ask': 100, 'last_price': 0, 'previous_yes_bid': 0, 'previous_yes_ask': 0, 'previous_price': 0, 'volume': 0, 'volume_24h': 0, 'liquidity': 1810, 'open_interest': 0, 'result': '', 'can_close_early': True, 'expiration_value': '', 'category': '', 'risk_limit_cents': 0, 'strike_type': 'custom', 'custom_strike': {'Song/Artist/Album': 'Just In Case'}, 'rules_primary': 'If Just In Case is #2 on the Daily Top Songs USA chart for the chart dated Apr 22, 2025, then the market resolves to Yes.', 'rules_secondary': ''}\n",
      "\n",
      "new cursor! CgwI65SYwAYQiOPtyQMSGUtYRVRIRC0yNUFQUjIzMDAtVDE5ODkuOTk\n"
     ]
    }
   ],
   "source": [
    "# What are cursors and how do they work?\n",
    "    \n",
    "# The Cursor represents a pointer to the next page of records in the pagination.\n",
    "# So this optional parameter, when filled, should be filled with the cursor string returned in a previous request to this end-point.\n",
    "# Filling this would basically tell the api to get the next page containing the number of records passed on the limit parameter.\n",
    "# On the other side not filling it tells the api you want to get the first page for another query.\n",
    "# The cursor does not store any filters, so if any filter parameters like tickers, max_ts or min_ts were passed in the original query they must be passed again.\n",
    "\n",
    "# Let's try it in action! Suppose we wanted to get the next 100 market objects...\n",
    "\n",
    "market_params = {'limit':100,\n",
    "                    'cursor':cursor, # passing in the cursor from the previous get_markets call\n",
    "                    'event_ticker': None,\n",
    "                    'series_ticker': None,\n",
    "                    'max_close_ts': None, # pass in unix_ts\n",
    "                    'min_close_ts': None, # pass in unix_ts\n",
    "                    'status': None,\n",
    "                    'tickers':None}\n",
    "\n",
    "markets_response = exchange_client.get_markets(**market_params)\n",
    "cursor = markets_response['cursor']\n",
    "\n",
    "print('keys:', markets_response.keys())\n",
    "print()\n",
    "print('number of objects:', len(markets_response['markets'])) # 100 objects!\n",
    "print()\n",
    "print('first market in market_response payload:', markets_response['markets'][0]) # new markets!\n",
    "print()\n",
    "print('new cursor!', cursor)"
   ]
  },
  {
   "cell_type": "code",
   "execution_count": 6,
   "metadata": {},
   "outputs": [
    {
     "name": "stdout",
     "output_type": "stream",
     "text": [
      "keys: dict_keys(['event', 'markets'])\n",
      "\n",
      "event object: {'event_ticker': 'KXSPOTIFY2D-25APR22', 'series_ticker': 'KXSPOTIFY2D', 'sub_title': 'On Apr 22, 2025 Chart', 'title': 'Runner-up USA Song on Spotify on Apr 22, 2025?', 'collateral_return_type': 'MECNET', 'mutually_exclusive': True, 'category': 'Entertainment'}\n",
      "\n",
      "first market in event_response payload: {'ticker': 'KXSPOTIFY2D-25APR22-NOK', 'event_ticker': 'KXSPOTIFY2D-25APR22', 'market_type': 'binary', 'title': '', 'subtitle': ':: Drake', 'yes_sub_title': 'NOKIA', 'no_sub_title': 'NOKIA', 'open_time': '2025-04-21T21:00:00Z', 'close_time': '2025-04-23T03:59:00Z', 'expected_expiration_time': '2025-04-23T14:00:00Z', 'expiration_time': '2025-05-06T14:00:00Z', 'latest_expiration_time': '2025-05-06T14:00:00Z', 'settlement_timer_seconds': 1800, 'status': 'active', 'response_price_units': 'usd_cent', 'notional_value': 100, 'tick_size': 1, 'yes_bid': 0, 'yes_ask': 0, 'no_bid': 100, 'no_ask': 100, 'last_price': 0, 'previous_yes_bid': 0, 'previous_yes_ask': 0, 'previous_price': 0, 'volume': 0, 'volume_24h': 0, 'liquidity': 0, 'open_interest': 0, 'result': '', 'can_close_early': True, 'expiration_value': '', 'category': '', 'risk_limit_cents': 0, 'strike_type': 'custom', 'custom_strike': {'Song/Artist/Album': 'NOKIA'}, 'rules_primary': 'If NOKIA is #2 on the Daily Top Songs USA chart for the chart dated Apr 22, 2025, then the market resolves to Yes.', 'rules_secondary': ''}\n"
     ]
    }
   ],
   "source": [
    "# Next, let's look at event level data by passing an event ticker to the get_event endpoint...\n",
    "\n",
    "event_ticker = markets_response['markets'][5]['event_ticker']\n",
    "event_params = {'event_ticker': event_ticker}\n",
    "event_response = exchange_client.get_event(**event_params)\n",
    "\n",
    "print('keys:', event_response.keys())\n",
    "print()\n",
    "print('event object:', event_response['event'])\n",
    "print()\n",
    "print('first market in event_response payload:', event_response['markets'][0])"
   ]
  },
  {
   "cell_type": "code",
   "execution_count": 7,
   "metadata": {},
   "outputs": [
    {
     "name": "stdout",
     "output_type": "stream",
     "text": [
      "keys: dict_keys(['series'])\n",
      "\n",
      "series object: {'ticker': 'KXSPOTIFY2D', 'frequency': 'daily', 'title': 'Daily US Spotify chart Runner-up', 'category': 'Entertainment', 'tags': ['Music charts'], 'settlement_sources': [{'url': 'https://charts.spotify.com/charts/view/regional-us-daily/latest', 'name': 'Spotify Charts'}], 'contract_url': 'https://kalshi-public-docs.s3.us-east-1.amazonaws.com/regulatory/product-certifications/SPOTIFYCHARTRANK.pdf'}\n",
      "\n"
     ]
    }
   ],
   "source": [
    "# Next, let's look at series level data by passing a series ticker to the get_series endpoint! \n",
    "series_ticker = event_response['event']['series_ticker']\n",
    "series_params = {'series_ticker': series_ticker}\n",
    "series_response = exchange_client.get_series(**series_params)\n",
    "\n",
    "print('keys:', series_response.keys())\n",
    "print()\n",
    "print('series object:', series_response['series'])\n",
    "print()"
   ]
  },
  {
   "cell_type": "code",
   "execution_count": 10,
   "metadata": {},
   "outputs": [
    {
     "ename": "HttpError",
     "evalue": "HttpError(404 Not Found)",
     "output_type": "error",
     "traceback": [
      "\u001b[0;31m---------------------------------------------------------------------------\u001b[0m",
      "\u001b[0;31mHttpError\u001b[0m                                 Traceback (most recent call last)",
      "Cell \u001b[0;32mIn[10], line 10\u001b[0m\n\u001b[1;32m      2\u001b[0m ticker \u001b[38;5;241m=\u001b[39m markets_response[\u001b[38;5;124m'\u001b[39m\u001b[38;5;124mmarkets\u001b[39m\u001b[38;5;124m'\u001b[39m][\u001b[38;5;241m0\u001b[39m][\u001b[38;5;124m'\u001b[39m\u001b[38;5;124mticker\u001b[39m\u001b[38;5;124m'\u001b[39m]\n\u001b[1;32m      4\u001b[0m market_history_params \u001b[38;5;241m=\u001b[39m {\u001b[38;5;124m'\u001b[39m\u001b[38;5;124mticker\u001b[39m\u001b[38;5;124m'\u001b[39m: ticker,\n\u001b[1;32m      5\u001b[0m                             \u001b[38;5;124m'\u001b[39m\u001b[38;5;124mlimit\u001b[39m\u001b[38;5;124m'\u001b[39m: \u001b[38;5;241m100\u001b[39m,\n\u001b[1;32m      6\u001b[0m                             \u001b[38;5;124m'\u001b[39m\u001b[38;5;124mcursor\u001b[39m\u001b[38;5;124m'\u001b[39m: \u001b[38;5;28;01mNone\u001b[39;00m,\n\u001b[1;32m      7\u001b[0m                             \u001b[38;5;124m'\u001b[39m\u001b[38;5;124mmax_ts\u001b[39m\u001b[38;5;124m'\u001b[39m: \u001b[38;5;28;01mNone\u001b[39;00m, \u001b[38;5;66;03m# pass in unix_ts\u001b[39;00m\n\u001b[1;32m      8\u001b[0m                             \u001b[38;5;124m'\u001b[39m\u001b[38;5;124mmin_ts\u001b[39m\u001b[38;5;124m'\u001b[39m: \u001b[38;5;28;01mNone\u001b[39;00m \u001b[38;5;66;03m# passing a recent unix_ts\u001b[39;00m\n\u001b[1;32m      9\u001b[0m                                 }\n\u001b[0;32m---> 10\u001b[0m market_history_response \u001b[38;5;241m=\u001b[39m \u001b[43mexchange_client\u001b[49m\u001b[38;5;241;43m.\u001b[39;49m\u001b[43mget_market_history\u001b[49m\u001b[43m(\u001b[49m\u001b[38;5;241;43m*\u001b[39;49m\u001b[38;5;241;43m*\u001b[39;49m\u001b[43mmarket_history_params\u001b[49m\u001b[43m)\u001b[49m\n\u001b[1;32m     12\u001b[0m \u001b[38;5;28mprint\u001b[39m(\u001b[38;5;124m'\u001b[39m\u001b[38;5;124mkeys:\u001b[39m\u001b[38;5;124m'\u001b[39m, market_history_response\u001b[38;5;241m.\u001b[39mkeys())\n\u001b[1;32m     13\u001b[0m \u001b[38;5;28mprint\u001b[39m()\n",
      "File \u001b[0;32m~/Downloads/KalshiAPIStarterCodeWithApiKey/KalshiClientsBaseV2ApiKey.py:223\u001b[0m, in \u001b[0;36mExchangeClient.get_market_history\u001b[0;34m(self, ticker, limit, cursor, max_ts, min_ts)\u001b[0m\n\u001b[1;32m    221\u001b[0m query_string \u001b[38;5;241m=\u001b[39m \u001b[38;5;28mself\u001b[39m\u001b[38;5;241m.\u001b[39mquery_generation(params \u001b[38;5;241m=\u001b[39m relevant_params)\n\u001b[1;32m    222\u001b[0m market_url \u001b[38;5;241m=\u001b[39m \u001b[38;5;28mself\u001b[39m\u001b[38;5;241m.\u001b[39mget_market_url(ticker \u001b[38;5;241m=\u001b[39m ticker)\n\u001b[0;32m--> 223\u001b[0m dictr \u001b[38;5;241m=\u001b[39m \u001b[38;5;28;43mself\u001b[39;49m\u001b[38;5;241;43m.\u001b[39;49m\u001b[43mget\u001b[49m\u001b[43m(\u001b[49m\u001b[43mmarket_url\u001b[49m\u001b[43m \u001b[49m\u001b[38;5;241;43m+\u001b[39;49m\u001b[43m \u001b[49m\u001b[38;5;124;43m'\u001b[39;49m\u001b[38;5;124;43m/history\u001b[39;49m\u001b[38;5;124;43m'\u001b[39;49m\u001b[43m \u001b[49m\u001b[38;5;241;43m+\u001b[39;49m\u001b[43m \u001b[49m\u001b[43mquery_string\u001b[49m\u001b[43m)\u001b[49m\n\u001b[1;32m    224\u001b[0m \u001b[38;5;28;01mreturn\u001b[39;00m dictr\n",
      "File \u001b[0;32m~/Downloads/KalshiAPIStarterCodeWithApiKey/KalshiClientsBaseV2ApiKey.py:72\u001b[0m, in \u001b[0;36mKalshiClient.get\u001b[0;34m(self, path, params)\u001b[0m\n\u001b[1;32m     67\u001b[0m \u001b[38;5;28mself\u001b[39m\u001b[38;5;241m.\u001b[39mrate_limit()\n\u001b[1;32m     69\u001b[0m response \u001b[38;5;241m=\u001b[39m requests\u001b[38;5;241m.\u001b[39mget(\n\u001b[1;32m     70\u001b[0m     \u001b[38;5;28mself\u001b[39m\u001b[38;5;241m.\u001b[39mhost \u001b[38;5;241m+\u001b[39m path, headers\u001b[38;5;241m=\u001b[39m\u001b[38;5;28mself\u001b[39m\u001b[38;5;241m.\u001b[39mrequest_headers(\u001b[38;5;124m\"\u001b[39m\u001b[38;5;124mGET\u001b[39m\u001b[38;5;124m\"\u001b[39m, path), params\u001b[38;5;241m=\u001b[39mparams\n\u001b[1;32m     71\u001b[0m )\n\u001b[0;32m---> 72\u001b[0m \u001b[38;5;28;43mself\u001b[39;49m\u001b[38;5;241;43m.\u001b[39;49m\u001b[43mraise_if_bad_response\u001b[49m\u001b[43m(\u001b[49m\u001b[43mresponse\u001b[49m\u001b[43m)\u001b[49m\n\u001b[1;32m     73\u001b[0m \u001b[38;5;28;01mreturn\u001b[39;00m response\u001b[38;5;241m.\u001b[39mjson()\n",
      "File \u001b[0;32m~/Downloads/KalshiAPIStarterCodeWithApiKey/KalshiClientsBaseV2ApiKey.py:131\u001b[0m, in \u001b[0;36mKalshiClient.raise_if_bad_response\u001b[0;34m(self, response)\u001b[0m\n\u001b[1;32m    129\u001b[0m \u001b[38;5;28;01mdef\u001b[39;00m\u001b[38;5;250m \u001b[39m\u001b[38;5;21mraise_if_bad_response\u001b[39m(\u001b[38;5;28mself\u001b[39m, response: requests\u001b[38;5;241m.\u001b[39mResponse) \u001b[38;5;241m-\u001b[39m\u001b[38;5;241m>\u001b[39m \u001b[38;5;28;01mNone\u001b[39;00m:\n\u001b[1;32m    130\u001b[0m     \u001b[38;5;28;01mif\u001b[39;00m response\u001b[38;5;241m.\u001b[39mstatus_code \u001b[38;5;129;01mnot\u001b[39;00m \u001b[38;5;129;01min\u001b[39;00m \u001b[38;5;28mrange\u001b[39m(\u001b[38;5;241m200\u001b[39m, \u001b[38;5;241m299\u001b[39m):\n\u001b[0;32m--> 131\u001b[0m         \u001b[38;5;28;01mraise\u001b[39;00m HttpError(response\u001b[38;5;241m.\u001b[39mreason, response\u001b[38;5;241m.\u001b[39mstatus_code)\n",
      "\u001b[0;31mHttpError\u001b[0m: HttpError(404 Not Found)"
     ]
    }
   ],
   "source": [
    "# Next let's look at the recent market history for a market\n",
    "ticker = markets_response['markets'][0]['ticker']\n",
    "\n",
    "market_history_params = {'ticker': ticker,\n",
    "                            'limit': 100,\n",
    "                            'cursor': None,\n",
    "                            'max_ts': None, # pass in unix_ts\n",
    "                            'min_ts': None # passing a recent unix_ts\n",
    "                                }\n",
    "market_history_response = exchange_client.get_market_history(**market_history_params)\n",
    "\n",
    "print('keys:', market_history_response.keys())\n",
    "print()\n",
    "print('most recent market history object:', market_history_response['history'][-1])\n",
    "print()\n",
    "\n",
    "# and then also look at the most current view of the orderbook\n",
    "market_history_params = {'ticker':ticker,\n",
    "                            'depth': 30\n",
    "                                }\n",
    "orderbook_response = exchange_client.get_orderbook(**market_history_params)\n",
    "\n",
    "print('keys:', orderbook_response.keys())\n",
    "print()\n",
    "print('orderbook object:', orderbook_response)\n",
    "print()"
   ]
  },
  {
   "cell_type": "code",
   "execution_count": null,
   "metadata": {},
   "outputs": [
    {
     "ename": "HttpError",
     "evalue": "HttpError(401 Unauthorized)",
     "output_type": "error",
     "traceback": [
      "\u001b[0;31m---------------------------------------------------------------------------\u001b[0m",
      "\u001b[0;31mHttpError\u001b[0m                                 Traceback (most recent call last)",
      "Cell \u001b[0;32mIn[56], line 4\u001b[0m\n\u001b[1;32m      1\u001b[0m \u001b[38;5;66;03m# Now let's suppose we wanted to place a trade on one of these markets... \u001b[39;00m\n\u001b[1;32m      2\u001b[0m \u001b[38;5;66;03m# to do so, we would first want to check out available balance...\u001b[39;00m\n\u001b[0;32m----> 4\u001b[0m current_balance \u001b[38;5;241m=\u001b[39m \u001b[43mexchange_client\u001b[49m\u001b[38;5;241;43m.\u001b[39;49m\u001b[43mget_balance\u001b[49m\u001b[43m(\u001b[49m\u001b[43m)\u001b[49m\n\u001b[1;32m      5\u001b[0m current_balance\n",
      "File \u001b[0;32m~/Downloads/KalshiAPIStarterCodeWithApiKey/KalshiClientsBaseV2ApiKey.py:258\u001b[0m, in \u001b[0;36mExchangeClient.get_balance\u001b[0;34m(self)\u001b[0m\n\u001b[1;32m    257\u001b[0m \u001b[38;5;28;01mdef\u001b[39;00m\u001b[38;5;250m \u001b[39m\u001b[38;5;21mget_balance\u001b[39m(\u001b[38;5;28mself\u001b[39m,):\n\u001b[0;32m--> 258\u001b[0m     dictr \u001b[38;5;241m=\u001b[39m \u001b[38;5;28;43mself\u001b[39;49m\u001b[38;5;241;43m.\u001b[39;49m\u001b[43mget\u001b[49m\u001b[43m(\u001b[49m\u001b[38;5;28;43mself\u001b[39;49m\u001b[38;5;241;43m.\u001b[39;49m\u001b[43mportfolio_url\u001b[49m\u001b[38;5;241;43m+\u001b[39;49m\u001b[38;5;124;43m'\u001b[39;49m\u001b[38;5;124;43m/balance\u001b[39;49m\u001b[38;5;124;43m'\u001b[39;49m\u001b[43m)\u001b[49m\n\u001b[1;32m    259\u001b[0m     \u001b[38;5;28;01mreturn\u001b[39;00m dictr\n",
      "File \u001b[0;32m~/Downloads/KalshiAPIStarterCodeWithApiKey/KalshiClientsBaseV2ApiKey.py:72\u001b[0m, in \u001b[0;36mKalshiClient.get\u001b[0;34m(self, path, params)\u001b[0m\n\u001b[1;32m     67\u001b[0m \u001b[38;5;28mself\u001b[39m\u001b[38;5;241m.\u001b[39mrate_limit()\n\u001b[1;32m     69\u001b[0m response \u001b[38;5;241m=\u001b[39m requests\u001b[38;5;241m.\u001b[39mget(\n\u001b[1;32m     70\u001b[0m     \u001b[38;5;28mself\u001b[39m\u001b[38;5;241m.\u001b[39mhost \u001b[38;5;241m+\u001b[39m path, headers\u001b[38;5;241m=\u001b[39m\u001b[38;5;28mself\u001b[39m\u001b[38;5;241m.\u001b[39mrequest_headers(\u001b[38;5;124m\"\u001b[39m\u001b[38;5;124mGET\u001b[39m\u001b[38;5;124m\"\u001b[39m, path), params\u001b[38;5;241m=\u001b[39mparams\n\u001b[1;32m     71\u001b[0m )\n\u001b[0;32m---> 72\u001b[0m \u001b[38;5;28;43mself\u001b[39;49m\u001b[38;5;241;43m.\u001b[39;49m\u001b[43mraise_if_bad_response\u001b[49m\u001b[43m(\u001b[49m\u001b[43mresponse\u001b[49m\u001b[43m)\u001b[49m\n\u001b[1;32m     73\u001b[0m \u001b[38;5;28;01mreturn\u001b[39;00m response\u001b[38;5;241m.\u001b[39mjson()\n",
      "File \u001b[0;32m~/Downloads/KalshiAPIStarterCodeWithApiKey/KalshiClientsBaseV2ApiKey.py:131\u001b[0m, in \u001b[0;36mKalshiClient.raise_if_bad_response\u001b[0;34m(self, response)\u001b[0m\n\u001b[1;32m    129\u001b[0m \u001b[38;5;28;01mdef\u001b[39;00m\u001b[38;5;250m \u001b[39m\u001b[38;5;21mraise_if_bad_response\u001b[39m(\u001b[38;5;28mself\u001b[39m, response: requests\u001b[38;5;241m.\u001b[39mResponse) \u001b[38;5;241m-\u001b[39m\u001b[38;5;241m>\u001b[39m \u001b[38;5;28;01mNone\u001b[39;00m:\n\u001b[1;32m    130\u001b[0m     \u001b[38;5;28;01mif\u001b[39;00m response\u001b[38;5;241m.\u001b[39mstatus_code \u001b[38;5;129;01mnot\u001b[39;00m \u001b[38;5;129;01min\u001b[39;00m \u001b[38;5;28mrange\u001b[39m(\u001b[38;5;241m200\u001b[39m, \u001b[38;5;241m299\u001b[39m):\n\u001b[0;32m--> 131\u001b[0m         \u001b[38;5;28;01mraise\u001b[39;00m HttpError(response\u001b[38;5;241m.\u001b[39mreason, response\u001b[38;5;241m.\u001b[39mstatus_code)\n",
      "\u001b[0;31mHttpError\u001b[0m: HttpError(401 Unauthorized)"
     ]
    }
   ],
   "source": [
    "# Now let's suppose we wanted to place a trade on one of these markets... \n",
    "# to do so, we would first want to check out available balance...\n",
    "\n",
    "current_balance = exchange_client.get_balance()\n",
    "current_balance"
   ]
  },
  {
   "cell_type": "code",
   "execution_count": null,
   "metadata": {},
   "outputs": [
    {
     "ename": "HttpError",
     "evalue": "HttpError(401 Unauthorized)",
     "output_type": "error",
     "traceback": [
      "\u001b[0;31m---------------------------------------------------------------------------\u001b[0m",
      "\u001b[0;31mHttpError\u001b[0m                                 Traceback (most recent call last)",
      "Cell \u001b[0;32mIn[57], line 9\u001b[0m\n\u001b[1;32m      1\u001b[0m \u001b[38;5;66;03m# Now that you have some balance, you might want to see how your current positions are doing...\u001b[39;00m\n\u001b[1;32m      3\u001b[0m positions_params \u001b[38;5;241m=\u001b[39m {\u001b[38;5;124m'\u001b[39m\u001b[38;5;124mlimit\u001b[39m\u001b[38;5;124m'\u001b[39m: \u001b[38;5;28;01mNone\u001b[39;00m,\n\u001b[1;32m      4\u001b[0m                         \u001b[38;5;124m'\u001b[39m\u001b[38;5;124mcursor\u001b[39m\u001b[38;5;124m'\u001b[39m: \u001b[38;5;28;01mNone\u001b[39;00m,\n\u001b[1;32m      5\u001b[0m                         \u001b[38;5;124m'\u001b[39m\u001b[38;5;124msettlement_status\u001b[39m\u001b[38;5;124m'\u001b[39m: \u001b[38;5;28;01mNone\u001b[39;00m,\n\u001b[1;32m      6\u001b[0m                         \u001b[38;5;124m'\u001b[39m\u001b[38;5;124mticker\u001b[39m\u001b[38;5;124m'\u001b[39m: \u001b[38;5;28;01mNone\u001b[39;00m,\n\u001b[1;32m      7\u001b[0m                         \u001b[38;5;124m'\u001b[39m\u001b[38;5;124mevent_ticker\u001b[39m\u001b[38;5;124m'\u001b[39m: \u001b[38;5;28;01mNone\u001b[39;00m}\n\u001b[0;32m----> 9\u001b[0m current_position \u001b[38;5;241m=\u001b[39m \u001b[43mexchange_client\u001b[49m\u001b[38;5;241;43m.\u001b[39;49m\u001b[43mget_positions\u001b[49m\u001b[43m(\u001b[49m\u001b[38;5;241;43m*\u001b[39;49m\u001b[38;5;241;43m*\u001b[39;49m\u001b[43mpositions_params\u001b[49m\u001b[43m)\u001b[49m\n\u001b[1;32m     10\u001b[0m current_position\n",
      "File \u001b[0;32m~/Downloads/KalshiAPIStarterCodeWithApiKey/KalshiClientsBaseV2ApiKey.py:355\u001b[0m, in \u001b[0;36mExchangeClient.get_positions\u001b[0;34m(self, limit, cursor, settlement_status, ticker, event_ticker)\u001b[0m\n\u001b[1;32m    353\u001b[0m positions_url \u001b[38;5;241m=\u001b[39m \u001b[38;5;28mself\u001b[39m\u001b[38;5;241m.\u001b[39mportfolio_url \u001b[38;5;241m+\u001b[39m \u001b[38;5;124m'\u001b[39m\u001b[38;5;124m/positions\u001b[39m\u001b[38;5;124m'\u001b[39m\n\u001b[1;32m    354\u001b[0m query_string \u001b[38;5;241m=\u001b[39m \u001b[38;5;28mself\u001b[39m\u001b[38;5;241m.\u001b[39mquery_generation(params\u001b[38;5;241m=\u001b[39m{k: v \u001b[38;5;28;01mfor\u001b[39;00m k,v \u001b[38;5;129;01min\u001b[39;00m \u001b[38;5;28mlocals\u001b[39m()\u001b[38;5;241m.\u001b[39mitems()})\n\u001b[0;32m--> 355\u001b[0m dictr \u001b[38;5;241m=\u001b[39m \u001b[38;5;28;43mself\u001b[39;49m\u001b[38;5;241;43m.\u001b[39;49m\u001b[43mget\u001b[49m\u001b[43m(\u001b[49m\u001b[43mpositions_url\u001b[49m\u001b[43m \u001b[49m\u001b[38;5;241;43m+\u001b[39;49m\u001b[43m \u001b[49m\u001b[43mquery_string\u001b[49m\u001b[43m)\u001b[49m\n\u001b[1;32m    356\u001b[0m \u001b[38;5;28;01mreturn\u001b[39;00m dictr\n",
      "File \u001b[0;32m~/Downloads/KalshiAPIStarterCodeWithApiKey/KalshiClientsBaseV2ApiKey.py:72\u001b[0m, in \u001b[0;36mKalshiClient.get\u001b[0;34m(self, path, params)\u001b[0m\n\u001b[1;32m     67\u001b[0m \u001b[38;5;28mself\u001b[39m\u001b[38;5;241m.\u001b[39mrate_limit()\n\u001b[1;32m     69\u001b[0m response \u001b[38;5;241m=\u001b[39m requests\u001b[38;5;241m.\u001b[39mget(\n\u001b[1;32m     70\u001b[0m     \u001b[38;5;28mself\u001b[39m\u001b[38;5;241m.\u001b[39mhost \u001b[38;5;241m+\u001b[39m path, headers\u001b[38;5;241m=\u001b[39m\u001b[38;5;28mself\u001b[39m\u001b[38;5;241m.\u001b[39mrequest_headers(\u001b[38;5;124m\"\u001b[39m\u001b[38;5;124mGET\u001b[39m\u001b[38;5;124m\"\u001b[39m, path), params\u001b[38;5;241m=\u001b[39mparams\n\u001b[1;32m     71\u001b[0m )\n\u001b[0;32m---> 72\u001b[0m \u001b[38;5;28;43mself\u001b[39;49m\u001b[38;5;241;43m.\u001b[39;49m\u001b[43mraise_if_bad_response\u001b[49m\u001b[43m(\u001b[49m\u001b[43mresponse\u001b[49m\u001b[43m)\u001b[49m\n\u001b[1;32m     73\u001b[0m \u001b[38;5;28;01mreturn\u001b[39;00m response\u001b[38;5;241m.\u001b[39mjson()\n",
      "File \u001b[0;32m~/Downloads/KalshiAPIStarterCodeWithApiKey/KalshiClientsBaseV2ApiKey.py:131\u001b[0m, in \u001b[0;36mKalshiClient.raise_if_bad_response\u001b[0;34m(self, response)\u001b[0m\n\u001b[1;32m    129\u001b[0m \u001b[38;5;28;01mdef\u001b[39;00m\u001b[38;5;250m \u001b[39m\u001b[38;5;21mraise_if_bad_response\u001b[39m(\u001b[38;5;28mself\u001b[39m, response: requests\u001b[38;5;241m.\u001b[39mResponse) \u001b[38;5;241m-\u001b[39m\u001b[38;5;241m>\u001b[39m \u001b[38;5;28;01mNone\u001b[39;00m:\n\u001b[1;32m    130\u001b[0m     \u001b[38;5;28;01mif\u001b[39;00m response\u001b[38;5;241m.\u001b[39mstatus_code \u001b[38;5;129;01mnot\u001b[39;00m \u001b[38;5;129;01min\u001b[39;00m \u001b[38;5;28mrange\u001b[39m(\u001b[38;5;241m200\u001b[39m, \u001b[38;5;241m299\u001b[39m):\n\u001b[0;32m--> 131\u001b[0m         \u001b[38;5;28;01mraise\u001b[39;00m HttpError(response\u001b[38;5;241m.\u001b[39mreason, response\u001b[38;5;241m.\u001b[39mstatus_code)\n",
      "\u001b[0;31mHttpError\u001b[0m: HttpError(401 Unauthorized)"
     ]
    }
   ],
   "source": [
    "# Now that you have some balance, you might want to see how your current positions are doing...\n",
    "\n",
    "positions_params = {'limit': None,\n",
    "                        'cursor': None,\n",
    "                        'settlement_status': None,\n",
    "                        'ticker': None,\n",
    "                        'event_ticker': None}\n",
    "\n",
    "current_position = exchange_client.get_positions(**positions_params)\n",
    "current_position"
   ]
  },
  {
   "cell_type": "code",
   "execution_count": null,
   "metadata": {},
   "outputs": [
    {
     "ename": "HttpError",
     "evalue": "HttpError(401 Unauthorized)",
     "output_type": "error",
     "traceback": [
      "\u001b[0;31m---------------------------------------------------------------------------\u001b[0m",
      "\u001b[0;31mHttpError\u001b[0m                                 Traceback (most recent call last)",
      "Cell \u001b[0;32mIn[58], line 10\u001b[0m\n\u001b[1;32m      1\u001b[0m \u001b[38;5;66;03m# seems like some of your recent orders had been filled. To check on those we use the get_positions endpoint ...\u001b[39;00m\n\u001b[1;32m      3\u001b[0m fills_params \u001b[38;5;241m=\u001b[39m {\u001b[38;5;124m'\u001b[39m\u001b[38;5;124mticker\u001b[39m\u001b[38;5;124m'\u001b[39m:\u001b[38;5;28;01mNone\u001b[39;00m,\n\u001b[1;32m      4\u001b[0m                     \u001b[38;5;124m'\u001b[39m\u001b[38;5;124morder_id\u001b[39m\u001b[38;5;124m'\u001b[39m:\u001b[38;5;28;01mNone\u001b[39;00m,\n\u001b[1;32m      5\u001b[0m                     \u001b[38;5;124m'\u001b[39m\u001b[38;5;124mmin_ts\u001b[39m\u001b[38;5;124m'\u001b[39m:\u001b[38;5;28;01mNone\u001b[39;00m,\n\u001b[1;32m      6\u001b[0m                     \u001b[38;5;124m'\u001b[39m\u001b[38;5;124mmax_ts\u001b[39m\u001b[38;5;124m'\u001b[39m:\u001b[38;5;28;01mNone\u001b[39;00m,\n\u001b[1;32m      7\u001b[0m                     \u001b[38;5;124m'\u001b[39m\u001b[38;5;124mlimit\u001b[39m\u001b[38;5;124m'\u001b[39m: \u001b[38;5;28;01mNone\u001b[39;00m,\n\u001b[1;32m      8\u001b[0m                     \u001b[38;5;124m'\u001b[39m\u001b[38;5;124mcursor\u001b[39m\u001b[38;5;124m'\u001b[39m: \u001b[38;5;28;01mNone\u001b[39;00m}\n\u001b[0;32m---> 10\u001b[0m fills \u001b[38;5;241m=\u001b[39m \u001b[43mexchange_client\u001b[49m\u001b[38;5;241;43m.\u001b[39;49m\u001b[43mget_fills\u001b[49m\u001b[43m(\u001b[49m\u001b[38;5;241;43m*\u001b[39;49m\u001b[38;5;241;43m*\u001b[39;49m\u001b[43mfills_params\u001b[49m\u001b[43m)\u001b[49m\n\u001b[1;32m     11\u001b[0m fills\n",
      "File \u001b[0;32m~/Downloads/KalshiAPIStarterCodeWithApiKey/KalshiClientsBaseV2ApiKey.py:324\u001b[0m, in \u001b[0;36mExchangeClient.get_fills\u001b[0;34m(self, ticker, order_id, min_ts, max_ts, limit, cursor)\u001b[0m\n\u001b[1;32m    322\u001b[0m fills_url \u001b[38;5;241m=\u001b[39m \u001b[38;5;28mself\u001b[39m\u001b[38;5;241m.\u001b[39mportfolio_url \u001b[38;5;241m+\u001b[39m \u001b[38;5;124m'\u001b[39m\u001b[38;5;124m/fills\u001b[39m\u001b[38;5;124m'\u001b[39m\n\u001b[1;32m    323\u001b[0m query_string \u001b[38;5;241m=\u001b[39m \u001b[38;5;28mself\u001b[39m\u001b[38;5;241m.\u001b[39mquery_generation(params\u001b[38;5;241m=\u001b[39m{k: v \u001b[38;5;28;01mfor\u001b[39;00m k,v \u001b[38;5;129;01min\u001b[39;00m \u001b[38;5;28mlocals\u001b[39m()\u001b[38;5;241m.\u001b[39mitems()})\n\u001b[0;32m--> 324\u001b[0m dictr \u001b[38;5;241m=\u001b[39m \u001b[38;5;28;43mself\u001b[39;49m\u001b[38;5;241;43m.\u001b[39;49m\u001b[43mget\u001b[49m\u001b[43m(\u001b[49m\u001b[43mfills_url\u001b[49m\u001b[43m \u001b[49m\u001b[38;5;241;43m+\u001b[39;49m\u001b[43m \u001b[49m\u001b[43mquery_string\u001b[49m\u001b[43m)\u001b[49m\n\u001b[1;32m    325\u001b[0m \u001b[38;5;28;01mreturn\u001b[39;00m dictr\n",
      "File \u001b[0;32m~/Downloads/KalshiAPIStarterCodeWithApiKey/KalshiClientsBaseV2ApiKey.py:72\u001b[0m, in \u001b[0;36mKalshiClient.get\u001b[0;34m(self, path, params)\u001b[0m\n\u001b[1;32m     67\u001b[0m \u001b[38;5;28mself\u001b[39m\u001b[38;5;241m.\u001b[39mrate_limit()\n\u001b[1;32m     69\u001b[0m response \u001b[38;5;241m=\u001b[39m requests\u001b[38;5;241m.\u001b[39mget(\n\u001b[1;32m     70\u001b[0m     \u001b[38;5;28mself\u001b[39m\u001b[38;5;241m.\u001b[39mhost \u001b[38;5;241m+\u001b[39m path, headers\u001b[38;5;241m=\u001b[39m\u001b[38;5;28mself\u001b[39m\u001b[38;5;241m.\u001b[39mrequest_headers(\u001b[38;5;124m\"\u001b[39m\u001b[38;5;124mGET\u001b[39m\u001b[38;5;124m\"\u001b[39m, path), params\u001b[38;5;241m=\u001b[39mparams\n\u001b[1;32m     71\u001b[0m )\n\u001b[0;32m---> 72\u001b[0m \u001b[38;5;28;43mself\u001b[39;49m\u001b[38;5;241;43m.\u001b[39;49m\u001b[43mraise_if_bad_response\u001b[49m\u001b[43m(\u001b[49m\u001b[43mresponse\u001b[49m\u001b[43m)\u001b[49m\n\u001b[1;32m     73\u001b[0m \u001b[38;5;28;01mreturn\u001b[39;00m response\u001b[38;5;241m.\u001b[39mjson()\n",
      "File \u001b[0;32m~/Downloads/KalshiAPIStarterCodeWithApiKey/KalshiClientsBaseV2ApiKey.py:131\u001b[0m, in \u001b[0;36mKalshiClient.raise_if_bad_response\u001b[0;34m(self, response)\u001b[0m\n\u001b[1;32m    129\u001b[0m \u001b[38;5;28;01mdef\u001b[39;00m\u001b[38;5;250m \u001b[39m\u001b[38;5;21mraise_if_bad_response\u001b[39m(\u001b[38;5;28mself\u001b[39m, response: requests\u001b[38;5;241m.\u001b[39mResponse) \u001b[38;5;241m-\u001b[39m\u001b[38;5;241m>\u001b[39m \u001b[38;5;28;01mNone\u001b[39;00m:\n\u001b[1;32m    130\u001b[0m     \u001b[38;5;28;01mif\u001b[39;00m response\u001b[38;5;241m.\u001b[39mstatus_code \u001b[38;5;129;01mnot\u001b[39;00m \u001b[38;5;129;01min\u001b[39;00m \u001b[38;5;28mrange\u001b[39m(\u001b[38;5;241m200\u001b[39m, \u001b[38;5;241m299\u001b[39m):\n\u001b[0;32m--> 131\u001b[0m         \u001b[38;5;28;01mraise\u001b[39;00m HttpError(response\u001b[38;5;241m.\u001b[39mreason, response\u001b[38;5;241m.\u001b[39mstatus_code)\n",
      "\u001b[0;31mHttpError\u001b[0m: HttpError(401 Unauthorized)"
     ]
    }
   ],
   "source": [
    "# seems like some of your recent orders had been filled. To check on those we use the get_positions endpoint ...\n",
    "\n",
    "fills_params = {'ticker':None,\n",
    "                    'order_id':None,\n",
    "                    'min_ts':None,\n",
    "                    'max_ts':None,\n",
    "                    'limit': None,\n",
    "                    'cursor': None}\n",
    "\n",
    "fills = exchange_client.get_fills(**fills_params)\n",
    "fills"
   ]
  },
  {
   "cell_type": "code",
   "execution_count": null,
   "metadata": {},
   "outputs": [
    {
     "ename": "HttpError",
     "evalue": "HttpError(401 Unauthorized)",
     "output_type": "error",
     "traceback": [
      "\u001b[0;31m---------------------------------------------------------------------------\u001b[0m",
      "\u001b[0;31mHttpError\u001b[0m                                 Traceback (most recent call last)",
      "Cell \u001b[0;32mIn[59], line 6\u001b[0m\n\u001b[1;32m      1\u001b[0m \u001b[38;5;66;03m# you may even want to check on some of your recent positions settled...\u001b[39;00m\n\u001b[1;32m      3\u001b[0m settlement_params \u001b[38;5;241m=\u001b[39m {\u001b[38;5;124m'\u001b[39m\u001b[38;5;124mlimit\u001b[39m\u001b[38;5;124m'\u001b[39m: \u001b[38;5;28;01mNone\u001b[39;00m,\n\u001b[1;32m      4\u001b[0m                         \u001b[38;5;124m'\u001b[39m\u001b[38;5;124mcursor\u001b[39m\u001b[38;5;124m'\u001b[39m: \u001b[38;5;28;01mNone\u001b[39;00m}\n\u001b[0;32m----> 6\u001b[0m settlements \u001b[38;5;241m=\u001b[39m \u001b[43mexchange_client\u001b[49m\u001b[38;5;241;43m.\u001b[39;49m\u001b[43mget_portfolio_settlements\u001b[49m\u001b[43m(\u001b[49m\u001b[38;5;241;43m*\u001b[39;49m\u001b[38;5;241;43m*\u001b[39;49m\u001b[43msettlement_params\u001b[49m\u001b[43m)\u001b[49m\n\u001b[1;32m      7\u001b[0m settlements\n",
      "File \u001b[0;32m~/Downloads/KalshiAPIStarterCodeWithApiKey/KalshiClientsBaseV2ApiKey.py:364\u001b[0m, in \u001b[0;36mExchangeClient.get_portfolio_settlements\u001b[0;34m(self, limit, cursor)\u001b[0m\n\u001b[1;32m    362\u001b[0m positions_url \u001b[38;5;241m=\u001b[39m \u001b[38;5;28mself\u001b[39m\u001b[38;5;241m.\u001b[39mportfolio_url \u001b[38;5;241m+\u001b[39m \u001b[38;5;124m'\u001b[39m\u001b[38;5;124m/settlements\u001b[39m\u001b[38;5;124m'\u001b[39m\n\u001b[1;32m    363\u001b[0m query_string \u001b[38;5;241m=\u001b[39m \u001b[38;5;28mself\u001b[39m\u001b[38;5;241m.\u001b[39mquery_generation(params\u001b[38;5;241m=\u001b[39m{k: v \u001b[38;5;28;01mfor\u001b[39;00m k,v \u001b[38;5;129;01min\u001b[39;00m \u001b[38;5;28mlocals\u001b[39m()\u001b[38;5;241m.\u001b[39mitems()})\n\u001b[0;32m--> 364\u001b[0m dictr \u001b[38;5;241m=\u001b[39m \u001b[38;5;28;43mself\u001b[39;49m\u001b[38;5;241;43m.\u001b[39;49m\u001b[43mget\u001b[49m\u001b[43m(\u001b[49m\u001b[43mpositions_url\u001b[49m\u001b[43m \u001b[49m\u001b[38;5;241;43m+\u001b[39;49m\u001b[43m \u001b[49m\u001b[43mquery_string\u001b[49m\u001b[43m)\u001b[49m\n\u001b[1;32m    365\u001b[0m \u001b[38;5;28;01mreturn\u001b[39;00m dictr\n",
      "File \u001b[0;32m~/Downloads/KalshiAPIStarterCodeWithApiKey/KalshiClientsBaseV2ApiKey.py:72\u001b[0m, in \u001b[0;36mKalshiClient.get\u001b[0;34m(self, path, params)\u001b[0m\n\u001b[1;32m     67\u001b[0m \u001b[38;5;28mself\u001b[39m\u001b[38;5;241m.\u001b[39mrate_limit()\n\u001b[1;32m     69\u001b[0m response \u001b[38;5;241m=\u001b[39m requests\u001b[38;5;241m.\u001b[39mget(\n\u001b[1;32m     70\u001b[0m     \u001b[38;5;28mself\u001b[39m\u001b[38;5;241m.\u001b[39mhost \u001b[38;5;241m+\u001b[39m path, headers\u001b[38;5;241m=\u001b[39m\u001b[38;5;28mself\u001b[39m\u001b[38;5;241m.\u001b[39mrequest_headers(\u001b[38;5;124m\"\u001b[39m\u001b[38;5;124mGET\u001b[39m\u001b[38;5;124m\"\u001b[39m, path), params\u001b[38;5;241m=\u001b[39mparams\n\u001b[1;32m     71\u001b[0m )\n\u001b[0;32m---> 72\u001b[0m \u001b[38;5;28;43mself\u001b[39;49m\u001b[38;5;241;43m.\u001b[39;49m\u001b[43mraise_if_bad_response\u001b[49m\u001b[43m(\u001b[49m\u001b[43mresponse\u001b[49m\u001b[43m)\u001b[49m\n\u001b[1;32m     73\u001b[0m \u001b[38;5;28;01mreturn\u001b[39;00m response\u001b[38;5;241m.\u001b[39mjson()\n",
      "File \u001b[0;32m~/Downloads/KalshiAPIStarterCodeWithApiKey/KalshiClientsBaseV2ApiKey.py:131\u001b[0m, in \u001b[0;36mKalshiClient.raise_if_bad_response\u001b[0;34m(self, response)\u001b[0m\n\u001b[1;32m    129\u001b[0m \u001b[38;5;28;01mdef\u001b[39;00m\u001b[38;5;250m \u001b[39m\u001b[38;5;21mraise_if_bad_response\u001b[39m(\u001b[38;5;28mself\u001b[39m, response: requests\u001b[38;5;241m.\u001b[39mResponse) \u001b[38;5;241m-\u001b[39m\u001b[38;5;241m>\u001b[39m \u001b[38;5;28;01mNone\u001b[39;00m:\n\u001b[1;32m    130\u001b[0m     \u001b[38;5;28;01mif\u001b[39;00m response\u001b[38;5;241m.\u001b[39mstatus_code \u001b[38;5;129;01mnot\u001b[39;00m \u001b[38;5;129;01min\u001b[39;00m \u001b[38;5;28mrange\u001b[39m(\u001b[38;5;241m200\u001b[39m, \u001b[38;5;241m299\u001b[39m):\n\u001b[0;32m--> 131\u001b[0m         \u001b[38;5;28;01mraise\u001b[39;00m HttpError(response\u001b[38;5;241m.\u001b[39mreason, response\u001b[38;5;241m.\u001b[39mstatus_code)\n",
      "\u001b[0;31mHttpError\u001b[0m: HttpError(401 Unauthorized)"
     ]
    }
   ],
   "source": [
    "# you may even want to check on some of your recent positions settled...\n",
    "\n",
    "settlement_params = {'limit': None,\n",
    "                        'cursor': None}\n",
    "\n",
    "settlements = exchange_client.get_portfolio_settlements(**settlement_params)\n",
    "settlements"
   ]
  },
  {
   "cell_type": "code",
   "execution_count": null,
   "metadata": {},
   "outputs": [
    {
     "name": "stdout",
     "output_type": "stream",
     "text": [
      "{'ticker': 'TESTING-5', 'client_order_id': 'c722356e-137d-431e-be87-086fcdefd458', 'side': 'no', 'action': 'buy', 'count': 10, 'type': 'limit', 'no_price': 30}\n"
     ]
    },
    {
     "ename": "HttpError",
     "evalue": "HttpError(401 Unauthorized)",
     "output_type": "error",
     "traceback": [
      "\u001b[0;31m---------------------------------------------------------------------------\u001b[0m",
      "\u001b[0;31mHttpError\u001b[0m                                 Traceback (most recent call last)",
      "Cell \u001b[0;32mIn[60], line 21\u001b[0m\n\u001b[1;32m      7\u001b[0m ticker \u001b[38;5;241m=\u001b[39m \u001b[38;5;124m'\u001b[39m\u001b[38;5;124mTESTING-5\u001b[39m\u001b[38;5;124m'\u001b[39m\n\u001b[1;32m      9\u001b[0m order_params \u001b[38;5;241m=\u001b[39m {\u001b[38;5;124m'\u001b[39m\u001b[38;5;124mticker\u001b[39m\u001b[38;5;124m'\u001b[39m:ticker,\n\u001b[1;32m     10\u001b[0m                     \u001b[38;5;124m'\u001b[39m\u001b[38;5;124mclient_order_id\u001b[39m\u001b[38;5;124m'\u001b[39m:\u001b[38;5;28mstr\u001b[39m(uuid\u001b[38;5;241m.\u001b[39muuid4()),\n\u001b[1;32m     11\u001b[0m                     \u001b[38;5;124m'\u001b[39m\u001b[38;5;124mtype\u001b[39m\u001b[38;5;124m'\u001b[39m:\u001b[38;5;124m'\u001b[39m\u001b[38;5;124mlimit\u001b[39m\u001b[38;5;124m'\u001b[39m,\n\u001b[0;32m   (...)\u001b[0m\n\u001b[1;32m     18\u001b[0m                     \u001b[38;5;124m'\u001b[39m\u001b[38;5;124msell_position_floor\u001b[39m\u001b[38;5;124m'\u001b[39m:\u001b[38;5;28;01mNone\u001b[39;00m,\n\u001b[1;32m     19\u001b[0m                     \u001b[38;5;124m'\u001b[39m\u001b[38;5;124mbuy_max_cost\u001b[39m\u001b[38;5;124m'\u001b[39m:\u001b[38;5;28;01mNone\u001b[39;00m}\n\u001b[0;32m---> 21\u001b[0m \u001b[43mexchange_client\u001b[49m\u001b[38;5;241;43m.\u001b[39;49m\u001b[43mcreate_order\u001b[49m\u001b[43m(\u001b[49m\u001b[38;5;241;43m*\u001b[39;49m\u001b[38;5;241;43m*\u001b[39;49m\u001b[43morder_params\u001b[49m\u001b[43m)\u001b[49m\n\u001b[1;32m     23\u001b[0m \u001b[38;5;66;03m# EQUIVALENTLY, because buying No is equivalent to selling yes...\u001b[39;00m\n\u001b[1;32m     24\u001b[0m \n\u001b[1;32m     25\u001b[0m \u001b[38;5;66;03m# order_params = {'ticker':ticker,\u001b[39;00m\n\u001b[0;32m   (...)\u001b[0m\n\u001b[1;32m     69\u001b[0m \n\u001b[1;32m     70\u001b[0m \u001b[38;5;66;03m# exchange_client.create_order(**order_params)             \u001b[39;00m\n",
      "File \u001b[0;32m~/Downloads/KalshiAPIStarterCodeWithApiKey/KalshiClientsBaseV2ApiKey.py:280\u001b[0m, in \u001b[0;36mExchangeClient.create_order\u001b[0;34m(self, ticker, client_order_id, side, action, count, type, yes_price, no_price, expiration_ts, sell_position_floor, buy_max_cost)\u001b[0m\n\u001b[1;32m    278\u001b[0m order_json \u001b[38;5;241m=\u001b[39m json\u001b[38;5;241m.\u001b[39mdumps(relevant_params)\n\u001b[1;32m    279\u001b[0m orders_url \u001b[38;5;241m=\u001b[39m \u001b[38;5;28mself\u001b[39m\u001b[38;5;241m.\u001b[39mportfolio_url \u001b[38;5;241m+\u001b[39m \u001b[38;5;124m'\u001b[39m\u001b[38;5;124m/orders\u001b[39m\u001b[38;5;124m'\u001b[39m\n\u001b[0;32m--> 280\u001b[0m result \u001b[38;5;241m=\u001b[39m \u001b[38;5;28;43mself\u001b[39;49m\u001b[38;5;241;43m.\u001b[39;49m\u001b[43mpost\u001b[49m\u001b[43m(\u001b[49m\u001b[43mpath\u001b[49m\u001b[43m \u001b[49m\u001b[38;5;241;43m=\u001b[39;49m\u001b[43m \u001b[49m\u001b[43morders_url\u001b[49m\u001b[43m,\u001b[49m\u001b[43m \u001b[49m\u001b[43mbody\u001b[49m\u001b[43m \u001b[49m\u001b[38;5;241;43m=\u001b[39;49m\u001b[43m \u001b[49m\u001b[43morder_json\u001b[49m\u001b[43m)\u001b[49m\n\u001b[1;32m    281\u001b[0m \u001b[38;5;28;01mreturn\u001b[39;00m result\n",
      "File \u001b[0;32m~/Downloads/KalshiAPIStarterCodeWithApiKey/KalshiClientsBaseV2ApiKey.py:61\u001b[0m, in \u001b[0;36mKalshiClient.post\u001b[0;34m(self, path, body)\u001b[0m\n\u001b[1;32m     56\u001b[0m \u001b[38;5;28mself\u001b[39m\u001b[38;5;241m.\u001b[39mrate_limit()\n\u001b[1;32m     58\u001b[0m response \u001b[38;5;241m=\u001b[39m requests\u001b[38;5;241m.\u001b[39mpost(\n\u001b[1;32m     59\u001b[0m     \u001b[38;5;28mself\u001b[39m\u001b[38;5;241m.\u001b[39mhost \u001b[38;5;241m+\u001b[39m path, data\u001b[38;5;241m=\u001b[39mbody, headers\u001b[38;5;241m=\u001b[39m\u001b[38;5;28mself\u001b[39m\u001b[38;5;241m.\u001b[39mrequest_headers(\u001b[38;5;124m\"\u001b[39m\u001b[38;5;124mPOST\u001b[39m\u001b[38;5;124m\"\u001b[39m, path)\n\u001b[1;32m     60\u001b[0m )\n\u001b[0;32m---> 61\u001b[0m \u001b[38;5;28;43mself\u001b[39;49m\u001b[38;5;241;43m.\u001b[39;49m\u001b[43mraise_if_bad_response\u001b[49m\u001b[43m(\u001b[49m\u001b[43mresponse\u001b[49m\u001b[43m)\u001b[49m\n\u001b[1;32m     62\u001b[0m \u001b[38;5;28;01mreturn\u001b[39;00m response\u001b[38;5;241m.\u001b[39mjson()\n",
      "File \u001b[0;32m~/Downloads/KalshiAPIStarterCodeWithApiKey/KalshiClientsBaseV2ApiKey.py:131\u001b[0m, in \u001b[0;36mKalshiClient.raise_if_bad_response\u001b[0;34m(self, response)\u001b[0m\n\u001b[1;32m    129\u001b[0m \u001b[38;5;28;01mdef\u001b[39;00m\u001b[38;5;250m \u001b[39m\u001b[38;5;21mraise_if_bad_response\u001b[39m(\u001b[38;5;28mself\u001b[39m, response: requests\u001b[38;5;241m.\u001b[39mResponse) \u001b[38;5;241m-\u001b[39m\u001b[38;5;241m>\u001b[39m \u001b[38;5;28;01mNone\u001b[39;00m:\n\u001b[1;32m    130\u001b[0m     \u001b[38;5;28;01mif\u001b[39;00m response\u001b[38;5;241m.\u001b[39mstatus_code \u001b[38;5;129;01mnot\u001b[39;00m \u001b[38;5;129;01min\u001b[39;00m \u001b[38;5;28mrange\u001b[39m(\u001b[38;5;241m200\u001b[39m, \u001b[38;5;241m299\u001b[39m):\n\u001b[0;32m--> 131\u001b[0m         \u001b[38;5;28;01mraise\u001b[39;00m HttpError(response\u001b[38;5;241m.\u001b[39mreason, response\u001b[38;5;241m.\u001b[39mstatus_code)\n",
      "\u001b[0;31mHttpError\u001b[0m: HttpError(401 Unauthorized)"
     ]
    }
   ],
   "source": [
    "# Now onto placing an order...\n",
    "# There are many different ways to think about placing orders at Kalshi. \n",
    "# The following param examples will walk through some of those\n",
    "\n",
    "# Limit buy order for 10 units at 30c No on GDPW-22-A3\n",
    "\n",
    "ticker = 'TESTING-5'\n",
    "\n",
    "order_params = {'ticker':ticker,\n",
    "                    'client_order_id':str(uuid.uuid4()),\n",
    "                    'type':'limit',\n",
    "                    'action':'buy',\n",
    "                    'side':'no',\n",
    "                    'count':10,\n",
    "                    'yes_price':None, # yes_price = 100 - no_price\n",
    "                    'no_price':30, # no_price = 100 - yes_price\n",
    "                    'expiration_ts':None,\n",
    "                    'sell_position_floor':None,\n",
    "                    'buy_max_cost':None}\n",
    "\n",
    "exchange_client.create_order(**order_params)\n",
    "\n",
    "# EQUIVALENTLY, because buying No is equivalent to selling yes...\n",
    "\n",
    "# order_params = {'ticker':ticker,\n",
    "#                     'client_order_id':str(uuid.uuid4()),\n",
    "#                     'type':'limit',\n",
    "#                     'action':'sell',\n",
    "#                     'side':'yes',\n",
    "#                     'count':10,\n",
    "#                     'yes_price':None, # yes_price = 100 - no_price\n",
    "#                     'no_price':30, # no_price = 100 - yes_price\n",
    "#                     'expiration_ts':None,\n",
    "#                     'sell_position_floor':None,\n",
    "#                     'buy_max_cost':None}\n",
    "\n",
    "# exchange_client.create_order(**order_params)\n",
    "\n",
    "\n",
    "# # Market sell order for 12 units Yes on GDPW-22-A3, without flipping position\n",
    "\n",
    "# order_params = {'ticker':ticker,\n",
    "#                     'client_order_id':str(uuid.uuid4()),\n",
    "#                     'type':'market',\n",
    "#                     'action':'sell',\n",
    "#                     'side':'yes',\n",
    "#                     'count':12,\n",
    "#                     'yes_price':1,\n",
    "#                     'no_price':None,\n",
    "#                     'expiration_ts':None,\n",
    "#                     'sell_position_floor':0,\n",
    "#                     'buy_max_cost':None}\n",
    "\n",
    "# exchange_client.create_order(**order_params)\n",
    "\n",
    "# # EQUIVALENTLY, because buying No is equivalent to selling yes...\n",
    "\n",
    "# order_params = {'ticker':ticker,\n",
    "#                     'client_order_id':str(uuid.uuid4()),\n",
    "#                     'type':'market',\n",
    "#                     'action':'buy',\n",
    "#                     'side':'no',\n",
    "#                     'count':12,\n",
    "#                     'yes_price':1,\n",
    "#                     'no_price':None,\n",
    "#                     'expiration_ts':None,\n",
    "#                     'sell_position_floor':0,\n",
    "#                     'buy_max_cost':None}\n",
    "\n",
    "# exchange_client.create_order(**order_params)             \n"
   ]
  },
  {
   "cell_type": "code",
   "execution_count": null,
   "metadata": {},
   "outputs": [],
   "source": []
  }
 ],
 "metadata": {
  "kernelspec": {
   "display_name": "kalshiclient",
   "language": "python",
   "name": "python3"
  },
  "language_info": {
   "codemirror_mode": {
    "name": "ipython",
    "version": 3
   },
   "file_extension": ".py",
   "mimetype": "text/x-python",
   "name": "python",
   "nbconvert_exporter": "python",
   "pygments_lexer": "ipython3",
   "version": "3.10.16"
  }
 },
 "nbformat": 4,
 "nbformat_minor": 4
}
