{
 "cells": [
  {
   "cell_type": "code",
   "execution_count": 1,
   "id": "2314a1db",
   "metadata": {},
   "outputs": [],
   "source": [
    "from NJ_Kalshi_Client import KalshiClient\n",
    "\n",
    "# Public key ID provided by Kalshi\n",
    "prod_key_id = \"2ff8666e-cf7b-4ff4-b667-06568a3f6b1b\"\n",
    "\n",
    "client = KalshiClient(\n",
    "    key_id=prod_key_id,\n",
    "    private_key_path=\"HybridNation-2.txt\"\n",
    ")"
   ]
  },
  {
   "cell_type": "code",
   "execution_count": 2,
   "id": "981d91da",
   "metadata": {},
   "outputs": [
    {
     "name": "stdout",
     "output_type": "stream",
     "text": [
      "KXNASDAQ100U-25APR23H1100-T19789.99 KXNASDAQ100U KXNASDAQ100U-25APR23H1100\n",
      "{'orderbook': {'yes': None, 'no': None}}\n",
      "{'ticker': 'KXNASDAQ100U-25APR23H1100-T19789.99', 'candlesticks': []}\n"
     ]
    }
   ],
   "source": [
    "markets = client.get_markets().get(\"markets\")\n",
    "m_ticker = markets[0]['ticker']\n",
    "e_ticker = markets[0]['event_ticker']\n",
    "event_details = client.get_event(e_ticker)\n",
    "s_ticker = event_details[\"event\"][\"series_ticker\"]\n",
    "\n",
    "print(m_ticker, s_ticker, e_ticker)\n",
    "orderbook = client.get_market_orderbook(m_ticker)\n",
    "print(orderbook)\n",
    "\n",
    "candlesticks = client.get_market_candlesticks(s_ticker, m_ticker)\n",
    "print(candlesticks)"
   ]
  },
  {
   "cell_type": "markdown",
   "id": "bfcc95aa",
   "metadata": {},
   "source": []
  },
  {
   "cell_type": "code",
   "execution_count": null,
   "id": "2e75ca4a",
   "metadata": {},
   "outputs": [],
   "source": []
  },
  {
   "cell_type": "code",
   "execution_count": null,
   "id": "e0bb5a8c",
   "metadata": {},
   "outputs": [],
   "source": []
  }
 ],
 "metadata": {
  "kernelspec": {
   "display_name": "kalshiclient",
   "language": "python",
   "name": "python3"
  },
  "language_info": {
   "codemirror_mode": {
    "name": "ipython",
    "version": 3
   },
   "file_extension": ".py",
   "mimetype": "text/x-python",
   "name": "python",
   "nbconvert_exporter": "python",
   "pygments_lexer": "ipython3",
   "version": "3.10.16"
  }
 },
 "nbformat": 4,
 "nbformat_minor": 5
}
